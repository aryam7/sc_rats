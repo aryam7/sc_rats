{
 "cells": [
  {
   "cell_type": "markdown",
   "metadata": {},
   "source": [
    "# Analyzing Rat snATAC-seq"
   ]
  },
  {
   "cell_type": "markdown",
   "metadata": {},
   "source": [
    "## Setup"
   ]
  },
  {
   "cell_type": "markdown",
   "metadata": {},
   "source": [
    "Get the paths to the files and set our working directory."
   ]
  },
  {
   "cell_type": "code",
   "execution_count": 1,
   "metadata": {},
   "outputs": [],
   "source": [
    "sample = \"data/10x/Rat_Amygdala_cocaine_low/outs\"\n",
    "\n",
    "# Files from CellRanger:\n",
    "# 1) peak/cell matrix - counts of the Tn5 cut sites within each peak\n",
    "raw = paste0(sample, \"/filtered_peak_bc_matrix.h5\")\n",
    "# 2) some metadata\n",
    "metadata = paste0(sample, \"/singlecell.csv\")\n",
    "# 3) a list of unique fragments across all single cells\n",
    "fragments = paste0(sample, \"/fragments.tsv.gz\")"
   ]
  },
  {
   "cell_type": "code",
   "execution_count": 2,
   "metadata": {},
   "outputs": [],
   "source": [
    "# change to the data/.. dir\n",
    "setwd(\"..\")"
   ]
  },
  {
   "cell_type": "code",
   "execution_count": 3,
   "metadata": {},
   "outputs": [],
   "source": [
    "# set the plot sizes to be full width\n",
    "library(repr)\n",
    "# Change plot size to BIG\n",
    "options(repr.plot.width=20, repr.plot.height=10)"
   ]
  },
  {
   "cell_type": "markdown",
   "metadata": {},
   "source": [
    "Load our dependencies.\n",
    "\n",
    "Note that this notebook is being run from within a conda environment. You can use our [`env.yml` file](/snATAC/env.yml) to reproduce it."
   ]
  },
  {
   "cell_type": "code",
   "execution_count": 4,
   "metadata": {},
   "outputs": [],
   "source": [
    "suppressMessages(library(Signac))\n",
    "suppressMessages(library(Seurat))\n",
    "suppressMessages(library(GenomeInfoDb))\n",
    "# suppressMessages(library(BSgenome.Rnorvegicus.UCSC.rn6))\n",
    "suppressMessages(library(ggplot2))\n",
    "suppressMessages(library(patchwork))\n",
    "suppressMessages(library(AnnotationHub))"
   ]
  },
  {
   "cell_type": "markdown",
   "metadata": {},
   "source": [
    "Get rat annotations. We use ensemblDB's annotation hub to get this."
   ]
  },
  {
   "cell_type": "code",
   "execution_count": null,
   "metadata": {},
   "outputs": [
    {
     "name": "stderr",
     "output_type": "stream",
     "text": [
      "using temporary cache /tmp/RtmpNxvg7P/BiocFileCache\n",
      "\n",
      "snapshotDate(): 2020-04-27\n",
      "\n",
      "downloading 1 resources\n",
      "\n",
      "retrieving 1 resource\n",
      "\n",
      "loading from cache\n",
      "\n",
      "require(“ensembldb”)\n",
      "\n"
     ]
    }
   ],
   "source": [
    "EnsDb.Rnorvegicus.v98 = query(AnnotationHub(), pattern = c(\"Rattus Norvegicus\", \"EnsDb\", 98))[[1]]"
   ]
  },
  {
   "cell_type": "code",
   "execution_count": null,
   "metadata": {},
   "outputs": [],
   "source": [
    "counts = Read10X_h5(filename = raw)\n",
    "metadata = read.csv(\n",
    "  file = metadata,\n",
    "  header = TRUE,\n",
    "  row.names = 1\n",
    ")"
   ]
  },
  {
   "cell_type": "code",
   "execution_count": null,
   "metadata": {},
   "outputs": [],
   "source": [
    "amygdala = CreateSeuratObject(\n",
    "  counts = counts,\n",
    "  assay = 'peaks',\n",
    "  project = 'ATAC',\n",
    "  min.cells = 1,\n",
    "  meta.data = metadata\n",
    ")"
   ]
  },
  {
   "cell_type": "code",
   "execution_count": null,
   "metadata": {},
   "outputs": [],
   "source": [
    "fragment.path = fragments\n",
    "amygdala = SetFragments(\n",
    "  object = amygdala,\n",
    "  file = fragment.path\n",
    ")\n",
    "amygdala"
   ]
  },
  {
   "cell_type": "markdown",
   "metadata": {},
   "source": [
    "## Computing QC Metrics"
   ]
  },
  {
   "cell_type": "code",
   "execution_count": null,
   "metadata": {},
   "outputs": [],
   "source": [
    "# note we currently only do this for chr1 because it can take a while\n",
    "# TODO: change this to the entire genome?\n",
    "amygdala <- NucleosomeSignal(object = amygdala, region = \"1-1-282763074\")"
   ]
  },
  {
   "cell_type": "markdown",
   "metadata": {},
   "source": [
    "Next, we calculate the following quality control metrics:\n",
    "1. `nucleosome_signal` - the approximate ratio of mononucleosomal fragments (147 bp < len < 294 bp) to nucleosome-free fragments (len < 147 bp) for each cell\n",
    "    - Good cells will have low numbers (less than ~10)\n",
    "2. `TSS.enrichment` - the ratio of fragments centered at the TSS to fragments in TSS-flanking regions\n",
    "    - Good cells will have high TSS enrichment scores (> 2)\n",
    "3. `peak_region_fragments` - total number of fragments in peaks\n",
    "    - Good cells won't be too high or too low here\n",
    "    - Low numbers represent cells with low sequencing depth and high numbers represent doublets or nuclear clumps\n",
    "4. `pct_reads_in_peaks` - fraction of fragments in peaks\n",
    "    - Good cells will have high values (> 15-20%)\n",
    "\n",
    "Note that we don't calculate the ratio of reads in blacklist sites because ENCODE hasn't done this for rats yet."
   ]
  },
  {
   "cell_type": "code",
   "execution_count": null,
   "metadata": {},
   "outputs": [],
   "source": [
    "amygdala$pct_reads_in_peaks <- amygdala$peak_region_fragments / amygdala$passed_filters * 100\n",
    "\n",
    "p1 <- VlnPlot(amygdala, c('pct_reads_in_peaks'), pt.size = 0.1) + NoLegend()\n",
    "p2 <- VlnPlot(amygdala, c('peak_region_fragments'), pt.size = 0.1) + NoLegend() + ylim(0, 7000)\n",
    "p3 <- VlnPlot(amygdala, c('nucleosome_signal'), pt.size = 0.1, y.max=20) + ylim(0,5)\n",
    "\n",
    "p1 | p2 | p3"
   ]
  },
  {
   "cell_type": "markdown",
   "metadata": {},
   "source": [
    "Let's get rid of cells with a high `nucleosome_signal` and plot the histogram of fragments for the others."
   ]
  },
  {
   "cell_type": "code",
   "execution_count": null,
   "metadata": {},
   "outputs": [],
   "source": [
    "amygdala$nucleosome_group <- ifelse(5 < amygdala$nucleosome_signal | amygdala$nucleosome_signal < 0.2, '5 < NS or NS < 0.2', '0.2 < NS < 5')\n",
    "# TODO: change the region from chr1 to something more useful\n",
    "FragmentHistogram(object = amygdala, group.by = 'nucleosome_group', region='1-1-282763074')"
   ]
  },
  {
   "cell_type": "markdown",
   "metadata": {},
   "source": [
    "Now, we can calculate the TSS enrichment score for each cell."
   ]
  },
  {
   "cell_type": "code",
   "execution_count": null,
   "metadata": {},
   "outputs": [],
   "source": [
    "# create granges object with TSS positions\n",
    "# not sure which reference genome is the right one to use here, but I chose Rnorvegicus from EnsDB\n",
    "# we grab the TSS positions from the reference genome\n",
    "gene.ranges <- genes(EnsDb.Rnorvegicus.v98)\n",
    "gene.ranges <- gene.ranges[gene.ranges$gene_biotype == 'protein_coding',]\n",
    "gene.ranges <- keepStandardChromosomes(gene.ranges, pruning.mode = 'coarse', species='Rattus_norvegicus')\n",
    "\n",
    "tss.ranges <- resize(gene.ranges, width = 1, fix = \"start\")\n",
    "# drop the mt genome because it is not in our tabix index\n",
    "tss.ranges <- dropSeqlevels(tss.ranges, \"MT\", pruning.mode = 'coarse')\n",
    "tss.ranges <- keepStandardChromosomes(tss.ranges, pruning.mode = 'coarse', species='Rattus_norvegicus')\n",
    "amygdala <- TSSEnrichment(object = amygdala, tss.positions = tss.ranges)"
   ]
  },
  {
   "cell_type": "code",
   "execution_count": null,
   "metadata": {},
   "outputs": [],
   "source": [
    "amygdala$high.tss <- ifelse(amygdala$TSS.enrichment > 2, 'High', 'Low')\n",
    "TSSPlot(amygdala, group.by = 'high.tss') + ggtitle(\"TSS enrichment score\") + NoLegend()"
   ]
  },
  {
   "cell_type": "markdown",
   "metadata": {},
   "source": [
    "Now, we use our analysis to choose some cutoff values for the QC metrics."
   ]
  },
  {
   "cell_type": "code",
   "execution_count": null,
   "metadata": {},
   "outputs": [],
   "source": [
    "amygdala <- subset(\n",
    "  x = amygdala,\n",
    "  subset = peak_region_fragments > 600 &\n",
    "    peak_region_fragments < 6000 &\n",
    "    pct_reads_in_peaks > 10 &\n",
    "    nucleosome_signal < 8 &\n",
    "    TSS.enrichment > 2\n",
    ")\n",
    "amygdala"
   ]
  },
  {
   "cell_type": "markdown",
   "metadata": {},
   "source": [
    "## Normalization and linear dimensional reduction"
   ]
  },
  {
   "cell_type": "markdown",
   "metadata": {},
   "source": [
    "Run SVD (single value decomposition) to reduce the matrix to a low-dimensional representation. We can use the SVD output to make our UMAP plot. This is like performing PCA prior to t-SNE."
   ]
  },
  {
   "cell_type": "code",
   "execution_count": null,
   "metadata": {},
   "outputs": [],
   "source": [
    "amygdala <- RunTFIDF(amygdala)\n",
    "amygdala <- FindTopFeatures(amygdala, min.cutoff = 'q0')\n",
    "amygdala <- RunSVD(\n",
    "  object = amygdala,\n",
    "  assay = 'peaks',\n",
    "  reduction.key = 'LSI_',\n",
    "  reduction.name = 'lsi'\n",
    ")"
   ]
  },
  {
   "cell_type": "code",
   "execution_count": null,
   "metadata": {},
   "outputs": [],
   "source": [
    "DepthCor(amygdala)"
   ]
  },
  {
   "cell_type": "markdown",
   "metadata": {},
   "source": [
    "We ignore the first component because it has a high correlation, likely because of technical artifacts."
   ]
  },
  {
   "cell_type": "code",
   "execution_count": null,
   "metadata": {},
   "outputs": [],
   "source": [
    "amygdala <- RunUMAP(object = amygdala, reduction = 'lsi', dims = 2:30)\n",
    "amygdala <- FindNeighbors(object = amygdala, reduction = 'lsi', dims = 2:30)\n",
    "amygdala <- FindClusters(object = amygdala, verbose = FALSE, algorithm = 3)\n",
    "DimPlot(object = amygdala, label = TRUE) + NoLegend()"
   ]
  },
  {
   "cell_type": "markdown",
   "metadata": {},
   "source": [
    "## Create a gene activity matrix"
   ]
  },
  {
   "cell_type": "code",
   "execution_count": null,
   "metadata": {},
   "outputs": [],
   "source": [
    "# Extend coordinates upstream to include the promoter\n",
    "genebodyandpromoter.coords <- Extend(x = gene.ranges, upstream = 2000, downstream = 0)\n",
    "\n",
    "# create a gene by cell matrix\n",
    "gene.activities <- FeatureMatrix(\n",
    "  fragments = fragment.path,\n",
    "  features = genebodyandpromoter.coords,\n",
    "  cells = colnames(amygdala),\n",
    "  chunk = 20\n",
    ")\n",
    "\n",
    "# convert rownames from chromsomal coordinates into gene names\n",
    "gene.key <- genebodyandpromoter.coords$gene_name\n",
    "names(gene.key) <- GRangesToString(grange = genebodyandpromoter.coords)\n",
    "rownames(gene.activities) <- gene.key[rownames(gene.activities)]"
   ]
  },
  {
   "cell_type": "code",
   "execution_count": null,
   "metadata": {},
   "outputs": [],
   "source": [
    "# add the gene activity matrix to the Seurat object as a new assay, and normalize it\n",
    "amygdala[['RNA']] <- CreateAssayObject(counts = gene.activities)\n",
    "amygdala <- NormalizeData(\n",
    "  object = amygdala,\n",
    "  assay = 'RNA',\n",
    "  normalization.method = 'LogNormalize',\n",
    "  scale.factor = median(amygdala$nCount_RNA)\n",
    ")"
   ]
  },
  {
   "cell_type": "code",
   "execution_count": null,
   "metadata": {},
   "outputs": [],
   "source": [
    "DefaultAssay(amygdala) <- 'RNA'\n",
    "\n",
    "FeaturePlot(\n",
    "  object = amygdala,\n",
    "  features = c('MS4A1', 'CD3D', 'LEF1', 'NKG7', 'TREM1', 'LYZ'),\n",
    "  pt.size = 0.1,\n",
    "  max.cutoff = 'q95',\n",
    "  ncol = 3\n",
    ")"
   ]
  },
  {
   "cell_type": "markdown",
   "metadata": {},
   "source": [
    "# Integrating with scRNA-seq data"
   ]
  },
  {
   "cell_type": "code",
   "execution_count": null,
   "metadata": {},
   "outputs": [],
   "source": []
  }
 ],
 "metadata": {
  "kernelspec": {
   "display_name": "R [conda env:sc]",
   "language": "R",
   "name": "conda-env-sc-r"
  },
  "language_info": {
   "codemirror_mode": "r",
   "file_extension": ".r",
   "mimetype": "text/x-r-source",
   "name": "R",
   "pygments_lexer": "r",
   "version": "4.0.2"
  }
 },
 "nbformat": 4,
 "nbformat_minor": 4
}
