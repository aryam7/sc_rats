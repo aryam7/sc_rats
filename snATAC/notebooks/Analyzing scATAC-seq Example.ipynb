{
 "cells": [
  {
   "cell_type": "markdown",
   "metadata": {},
   "source": [
    "# Analyzing PBMC scATAC-seq\n",
    "This Jupyter notebook implements [this vignette](https://satijalab.org/signac/articles/pbmc_vignette.html)."
   ]
  },
  {
   "cell_type": "code",
   "execution_count": 1,
   "metadata": {},
   "outputs": [],
   "source": [
    "setwd(\"..\")"
   ]
  },
  {
   "cell_type": "code",
   "execution_count": 2,
   "metadata": {},
   "outputs": [],
   "source": [
    "raw = \"data/test/atac_v1_pbmc_10k_filtered_peak_bc_matrix.h5\"\n",
    "metadata = \"data/test/atac_v1_pbmc_10k_singlecell.csv\"\n",
    "fragments = \"data/test/atac_v1_pbmc_10k_fragments.tsv.gz\"\n",
    "out = \"data/test/out.tsv\""
   ]
  },
  {
   "cell_type": "code",
   "execution_count": 3,
   "metadata": {},
   "outputs": [
    {
     "name": "stderr",
     "output_type": "stream",
     "text": [
      "Loading required package: BiocGenerics\n",
      "\n",
      "Loading required package: parallel\n",
      "\n",
      "\n",
      "Attaching package: ‘BiocGenerics’\n",
      "\n",
      "\n",
      "The following objects are masked from ‘package:parallel’:\n",
      "\n",
      "    clusterApply, clusterApplyLB, clusterCall, clusterEvalQ,\n",
      "    clusterExport, clusterMap, parApply, parCapply, parLapply,\n",
      "    parLapplyLB, parRapply, parSapply, parSapplyLB\n",
      "\n",
      "\n",
      "The following objects are masked from ‘package:stats’:\n",
      "\n",
      "    IQR, mad, sd, var, xtabs\n",
      "\n",
      "\n",
      "The following objects are masked from ‘package:base’:\n",
      "\n",
      "    anyDuplicated, append, as.data.frame, basename, cbind, colnames,\n",
      "    dirname, do.call, duplicated, eval, evalq, Filter, Find, get, grep,\n",
      "    grepl, intersect, is.unsorted, lapply, Map, mapply, match, mget,\n",
      "    order, paste, pmax, pmax.int, pmin, pmin.int, Position, rank,\n",
      "    rbind, Reduce, rownames, sapply, setdiff, sort, table, tapply,\n",
      "    union, unique, unsplit, which, which.max, which.min\n",
      "\n",
      "\n",
      "Loading required package: S4Vectors\n",
      "\n",
      "Loading required package: stats4\n",
      "\n",
      "\n",
      "Attaching package: ‘S4Vectors’\n",
      "\n",
      "\n",
      "The following object is masked from ‘package:base’:\n",
      "\n",
      "    expand.grid\n",
      "\n",
      "\n",
      "Loading required package: IRanges\n",
      "\n",
      "Loading required package: ensembldb\n",
      "\n",
      "Loading required package: GenomicRanges\n",
      "\n",
      "Loading required package: GenomicFeatures\n",
      "\n",
      "Loading required package: AnnotationDbi\n",
      "\n",
      "Loading required package: Biobase\n",
      "\n",
      "Welcome to Bioconductor\n",
      "\n",
      "    Vignettes contain introductory material; view with\n",
      "    'browseVignettes()'. To cite Bioconductor, see\n",
      "    'citation(\"Biobase\")', and for packages 'citation(\"pkgname\")'.\n",
      "\n",
      "\n",
      "Loading required package: AnnotationFilter\n",
      "\n",
      "\n",
      "Attaching package: 'ensembldb'\n",
      "\n",
      "\n",
      "The following object is masked from 'package:stats':\n",
      "\n",
      "    filter\n",
      "\n",
      "\n"
     ]
    }
   ],
   "source": [
    "library(Signac)\n",
    "library(Seurat)\n",
    "library(GenomeInfoDb)\n",
    "library(EnsDb.Hsapiens.v75)\n",
    "library(ggplot2)\n",
    "library(patchwork)"
   ]
  },
  {
   "cell_type": "code",
   "execution_count": 3,
   "metadata": {},
   "outputs": [
    {
     "ename": "ERROR",
     "evalue": "Error in file.exists(filename): invalid 'file' argument\n",
     "output_type": "error",
     "traceback": [
      "Error in file.exists(filename): invalid 'file' argument\nTraceback:\n",
      "1. Read10X_h5(filename = raw)",
      "2. file.exists(filename)"
     ]
    }
   ],
   "source": [
    "counts = Read10X_h5(filename = raw)\n",
    "metadata = read.csv(\n",
    "  file = metadata,\n",
    "  header = TRUE,\n",
    "  row.names = 1\n",
    ")"
   ]
  },
  {
   "cell_type": "code",
   "execution_count": null,
   "metadata": {},
   "outputs": [],
   "source": [
    "pbmc = CreateSeuratObject(\n",
    "  counts = counts,\n",
    "  assay = 'peaks',\n",
    "  project = 'ATAC',\n",
    "  min.cells = 1,\n",
    "  meta.data = metadata\n",
    ")"
   ]
  },
  {
   "cell_type": "code",
   "execution_count": 4,
   "metadata": {},
   "outputs": [
    {
     "ename": "ERROR",
     "evalue": "Error in eval(expr, envir, enclos): object 'fragments' not found\n",
     "output_type": "error",
     "traceback": [
      "Error in eval(expr, envir, enclos): object 'fragments' not found\nTraceback:\n"
     ]
    }
   ],
   "source": [
    "fragment.path = fragments"
   ]
  },
  {
   "cell_type": "code",
   "execution_count": 10,
   "metadata": {},
   "outputs": [
    {
     "ename": "ERROR",
     "evalue": "Error in SetFragments(object = pbmc, file = fragment.path): could not find function \"SetFragments\"\n",
     "output_type": "error",
     "traceback": [
      "Error in SetFragments(object = pbmc, file = fragment.path): could not find function \"SetFragments\"\nTraceback:\n"
     ]
    }
   ],
   "source": [
    "pbmc = SetFragments(\n",
    "  object = pbmc,\n",
    "  file = fragment.path\n",
    ")"
   ]
  },
  {
   "cell_type": "code",
   "execution_count": null,
   "metadata": {},
   "outputs": [],
   "source": [
    "pbmc <- NucleosomeSignal(object = pbmc)"
   ]
  },
  {
   "cell_type": "code",
   "execution_count": null,
   "metadata": {},
   "outputs": [],
   "source": [
    "pbmc$pct_reads_in_peaks <- pbmc$peak_region_fragments / pbmc$passed_filters * 100\n",
    "pbmc$blacklist_ratio <- pbmc$blacklist_region_fragments / pbmc$peak_region_fragments\n",
    "\n",
    "p1 <- VlnPlot(pbmc, c('pct_reads_in_peaks', 'peak_region_fragments'), pt.size = 0.1)\n",
    "p2 <- VlnPlot(pbmc, c('blacklist_ratio', 'nucleosome_signal'), pt.size = 0.1) & scale_y_log10()\n",
    "\n",
    "p1 | p2"
   ]
  },
  {
   "cell_type": "code",
   "execution_count": null,
   "metadata": {},
   "outputs": [],
   "source": [
    "pbmc$nucleosome_group <- ifelse(pbmc$nucleosome_signal > 10, 'NS > 10', 'NS < 10')\n",
    "FragmentHistogram(object = pbmc, group.by = 'nucleosome_group')"
   ]
  },
  {
   "cell_type": "code",
   "execution_count": null,
   "metadata": {},
   "outputs": [],
   "source": [
    "# create granges object with TSS positions\n",
    "gene.ranges <- genes(EnsDb.Hsapiens.v75)\n",
    "seqlevelsStyle(gene.ranges) <- 'UCSC'\n",
    "gene.ranges <- gene.ranges[gene.ranges$gene_biotype == 'protein_coding', ]\n",
    "gene.ranges <- keepStandardChromosomes(gene.ranges, pruning.mode = 'coarse')\n",
    "\n",
    "tss.ranges <- resize(gene.ranges, width = 1, fix = \"start\")\n",
    "seqlevelsStyle(tss.ranges) <- 'UCSC'\n",
    "tss.ranges <- keepStandardChromosomes(tss.ranges, pruning.mode = 'coarse')\n",
    "\n",
    "# to save time use the first 2000 TSSs\n",
    "pbmc <- TSSEnrichment(object = pbmc, tss.positions = tss.ranges[1:2000])"
   ]
  },
  {
   "cell_type": "code",
   "execution_count": null,
   "metadata": {},
   "outputs": [],
   "source": [
    "pbmc$high.tss <- ifelse(pbmc$TSS.enrichment > 2, 'High', 'Low')\n",
    "TSSPlot(pbmc, group.by = 'high.tss') + ggtitle(\"TSS enrichment score\") + NoLegend()"
   ]
  },
  {
   "cell_type": "code",
   "execution_count": null,
   "metadata": {},
   "outputs": [],
   "source": [
    "pbmc <- subset(\n",
    "  x = pbmc,\n",
    "  subset = peak_region_fragments > 3000 &\n",
    "    peak_region_fragments < 20000 &\n",
    "    pct_reads_in_peaks > 15 &\n",
    "    blacklist_ratio < 0.05 &\n",
    "    nucleosome_signal < 10 &\n",
    "    TSS.enrichment > 2\n",
    ")\n",
    "pbmc"
   ]
  },
  {
   "cell_type": "code",
   "execution_count": null,
   "metadata": {},
   "outputs": [],
   "source": [
    "pbmc <- RunTFIDF(pbmc)\n",
    "pbmc <- FindTopFeatures(pbmc, min.cutoff = 'q0')\n",
    "pbmc <- RunSVD(\n",
    "  object = pbmc,\n",
    "  assay = 'peaks',\n",
    "  reduction.key = 'LSI_',\n",
    "  reduction.name = 'lsi'\n",
    ")"
   ]
  },
  {
   "cell_type": "code",
   "execution_count": null,
   "metadata": {},
   "outputs": [],
   "source": [
    "DepthCor(pbmc)"
   ]
  },
  {
   "cell_type": "code",
   "execution_count": null,
   "metadata": {},
   "outputs": [],
   "source": [
    "pbmc <- RunUMAP(object = pbmc, reduction = 'lsi', dims = 2:30)\n",
    "pbmc <- FindNeighbors(object = pbmc, reduction = 'lsi', dims = 2:30)\n",
    "pbmc <- FindClusters(object = pbmc, verbose = FALSE, algorithm = 3)\n",
    "DimPlot(object = pbmc, label = TRUE) + NoLegend()"
   ]
  }
 ],
 "metadata": {
  "kernelspec": {
   "display_name": "R [conda env:sc]",
   "language": "R",
   "name": "conda-env-sc-r"
  },
  "language_info": {
   "codemirror_mode": "r",
   "file_extension": ".r",
   "mimetype": "text/x-r-source",
   "name": "R",
   "pygments_lexer": "r",
   "version": "4.0.2"
  }
 },
 "nbformat": 4,
 "nbformat_minor": 4
}
